{
 "cells": [
  {
   "cell_type": "code",
   "execution_count": 2,
   "metadata": {},
   "outputs": [],
   "source": [
    "import numpy as np\n",
    "import pandas as pd\n",
    "import matplotlib.pyplot as plt"
   ]
  },
  {
   "cell_type": "markdown",
   "metadata": {},
   "source": [
    "### Generating Random Sequence"
   ]
  },
  {
   "cell_type": "code",
   "execution_count": 196,
   "metadata": {},
   "outputs": [],
   "source": [
    "def get_dataset(multiplier=100,count=2000,mean=2, var=1, denom=1):\n",
    "    ds_1 = np.around(abs(np.random.normal(mean,var,count)*multiplier),denom)\n",
    "    return ds_1, min(ds_1), max(ds_1)"
   ]
  },
  {
   "cell_type": "code",
   "execution_count": 225,
   "metadata": {},
   "outputs": [],
   "source": [
    "d1, d1_min, d1_max = get_dataset()"
   ]
  },
  {
   "cell_type": "markdown",
   "metadata": {},
   "source": [
    "## Calculating Weight Exponents"
   ]
  },
  {
   "cell_type": "code",
   "execution_count": 28,
   "metadata": {},
   "outputs": [],
   "source": [
    "def w_a(threshold, x_0, x_a):\n",
    "    ln_v = np.log(threshold)\n",
    "    denm = np.log(1-np.abs((x_0-x_a)/(x_0+x_a)))\n",
    "    return float(ln_v/denm)\n",
    "\n",
    "def w_b(threshold, x_0, x_b):\n",
    "    ln_v = np.log(threshold)\n",
    "    denm = np.log(1-np.abs((x_b-x_0)/(x_b+x_0)))\n",
    "    return float(ln_v/denm)\n",
    "\n",
    "def wx(threshold, x_0, x_a, x_b):\n",
    "    return np.sqrt(w_a(threshold, x_0, x_a) * w_b(threshold, x_0, x_b))"
   ]
  },
  {
   "cell_type": "code",
   "execution_count": 231,
   "metadata": {
    "scrolled": true
   },
   "outputs": [],
   "source": [
    "data_st = np.split(d1,5) # data divided into five parts\n",
    "\n",
    "avg_list = []\n",
    "for st in data_st:\n",
    "    avg_list.append(st.mean())\n",
    "\n",
    "\n",
    "def index_val(avg_val, min_val, max_val, thresh, x0=50):\n",
    "    weight = wx(thresh, x0, min_val, max_val)\n",
    "    dsi = []\n",
    "    for val in avg_val:\n",
    "        dsi.append((1-np.abs((val-x0)/(val+x0)))**weight)\n",
    "    return dsi"
   ]
  },
  {
   "cell_type": "code",
   "execution_count": 232,
   "metadata": {},
   "outputs": [],
   "source": [
    "dsi = index_val(avg_list, d1_min, d1_max, 0.8, x0=60)"
   ]
  },
  {
   "cell_type": "code",
   "execution_count": 233,
   "metadata": {},
   "outputs": [
    {
     "data": {
      "text/plain": [
       "[0.9168734937376295,\n",
       " 0.9168192248907981,\n",
       " 0.9190192224461049,\n",
       " 0.9146428147857585,\n",
       " 0.9145322851141118]"
      ]
     },
     "execution_count": 233,
     "metadata": {},
     "output_type": "execute_result"
    }
   ],
   "source": [
    "dsi"
   ]
  },
  {
   "cell_type": "code",
   "execution_count": 247,
   "metadata": {},
   "outputs": [],
   "source": [
    "def meivnvn(m=1000, c=2000, mn=1, v=1, d=1, thresh=0.8):\n",
    "    d1, d1_min, d1_max = get_dataset(multiplier=m, count=c, mean=mn, var=v, denom=d)\n",
    "    data_st = np.split(d1,5) # data divided into five parts\n",
    "    #print(data_st)\n",
    "\n",
    "    avg_list = []\n",
    "    for st in data_st:\n",
    "        avg_list.append(st.mean())\n",
    "\n",
    "    val = index_val(avg_list, d1_min, d1_max, thresh)\n",
    "    return avg_list, val, d1_min, d1_max"
   ]
  },
  {
   "cell_type": "code",
   "execution_count": 271,
   "metadata": {
    "scrolled": false
   },
   "outputs": [],
   "source": [
    "a,v,amin,amax = meivnvn(m=10, d=2)"
   ]
  },
  {
   "cell_type": "code",
   "execution_count": 272,
   "metadata": {},
   "outputs": [
    {
     "name": "stdout",
     "output_type": "stream",
     "text": [
      "[11.589850000000002, 11.480524999999998, 11.605599999999999, 11.422450000000001, 11.078074999999998]\n",
      "[0.7969073107867326, 0.7954829157969036, 0.7971114104798208, 0.7947207410729282, 0.7901203730195293]\n",
      "0.01\n",
      "39.99\n"
     ]
    }
   ],
   "source": [
    "print(a)\n",
    "print(v)\n",
    "print(amin)\n",
    "print(amax)"
   ]
  },
  {
   "cell_type": "code",
   "execution_count": 240,
   "metadata": {},
   "outputs": [
    {
     "name": "stdout",
     "output_type": "stream",
     "text": [
      "[200.35625, 200.51300000000003, 194.24375, 206.88875, 207.21725000000004]\n",
      "[0.9168734937376295, 0.9168192248907981, 0.9190192224461049, 0.9146428147857585, 0.9145322851141118]\n",
      "1.1\n",
      "537.2\n"
     ]
    }
   ],
   "source": [
    "print(avg_list)\n",
    "print(dsi)\n",
    "print(d1_min)\n",
    "print(d1_max)"
   ]
  },
  {
   "cell_type": "code",
   "execution_count": 274,
   "metadata": {},
   "outputs": [],
   "source": [
    "usable_data = {\n",
    "    'DSI': [[11.589850000000002, 11.480524999999998, 11.605599999999999, 11.422450000000001, 11.078074999999998],[0.7969073107867326, 0.7954829157969036, 0.7971114104798208, 0.7947207410729282, 0.7901203730195293],0.01,39.99],\n",
    "    'AvgVAl': [[200.35625, 200.51300000000003, 194.24375, 206.88875, 207.21725000000004],[0.9168734937376295, 0.9168192248907981, 0.9190192224461049, 0.9146428147857585, 0.9145322851141118],1.1,537.2]\n",
    "    \n",
    "}"
   ]
  }
 ],
 "metadata": {
  "kernelspec": {
   "display_name": "Python 3",
   "language": "python",
   "name": "python3"
  },
  "language_info": {
   "codemirror_mode": {
    "name": "ipython",
    "version": 3
   },
   "file_extension": ".py",
   "mimetype": "text/x-python",
   "name": "python",
   "nbconvert_exporter": "python",
   "pygments_lexer": "ipython3",
   "version": "3.6.5"
  }
 },
 "nbformat": 4,
 "nbformat_minor": 2
}
